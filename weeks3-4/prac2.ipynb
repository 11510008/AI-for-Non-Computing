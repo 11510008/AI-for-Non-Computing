{
 "cells": [
  {
   "cell_type": "markdown",
   "metadata": {},
   "source": [
    "#### Introduce:DFS and BFS"
   ]
  },
  {
   "cell_type": "markdown",
   "metadata": {},
   "source": [
    "you can click the links, and learn something about depth first search and breath first search"
   ]
  },
  {
   "cell_type": "markdown",
   "metadata": {},
   "source": [
    "- Depth first search:   link：https://pan.baidu.com/s/1ApVPcMoXtaG7JZhqGmDbpQ  password：5p8y\n",
    "- Breath first search:  link：https://pan.baidu.com/s/176g5q0W3rGbSAM5tZMraeg   password：7mdh"
   ]
  },
  {
   "cell_type": "markdown",
   "metadata": {},
   "source": [
    "writing a movie process"
   ]
  },
  {
   "cell_type": "markdown",
   "metadata": {},
   "source": [
    "1\\.As a movie viewer, please write a script that see a movie process."
   ]
  },
  {
   "cell_type": "markdown",
   "metadata": {},
   "source": []
  },
  {
   "cell_type": "markdown",
   "metadata": {},
   "source": [
    "theory questions"
   ]
  },
  {
   "cell_type": "markdown",
   "metadata": {},
   "source": [
    "2\\.Explain why problem formulation must follow goal formulation.chapter3.1"
   ]
  },
  {
   "cell_type": "markdown",
   "metadata": {},
   "source": []
  },
  {
   "cell_type": "markdown",
   "metadata": {},
   "source": [
    "3\\. Invent a heuristic function for the 8-puzzle that sometimes overestimates, and show how it can lead to a suboptimal solution on a particular problem. (You can use a computer to help if you want.) Prove that if h never overestimates by more than c,A ∗ using h returns a solution whose cost exceeds that of the optimal solution by no more than c.chapter3.28"
   ]
  },
  {
   "cell_type": "markdown",
   "metadata": {},
   "source": []
  },
  {
   "cell_type": "markdown",
   "metadata": {},
   "source": [
    "4\\.Consider the sensorless version of the erratic vacuum world. Draw the belief-state space reachable from the initial belief state {1, 2, 3, 4, 5, 6, 7, 8}, and explain why the problem is unsolvable.chapter4.10"
   ]
  },
  {
   "cell_type": "markdown",
   "metadata": {},
   "source": []
  },
  {
   "cell_type": "markdown",
   "metadata": {},
   "source": [
    "5\\.Consider a state space where the start state is number 1 and each state  k has two successors: numbers 2k and 2k + 1.\n",
    "- a. Draw the portion of the state space for states 1 to 15.\n",
    "- b. Suppose the goal state is 11. List the order in which nodes will be visited for breadthfirst\n",
    "search, depth-limited search with limit 3, and iterative deepening search.\n",
    "- c. How well would bidirectional search work on this problem? What is the branching\n",
    "factor in each direction of the bidirectional search?\n",
    "- d. Does the answer to (c) suggest a reformulation of the problem that would allow you to\n",
    "solve the problem of getting from state 1 to a given goal state with almost no search?\n",
    "- e. Call the action going from k to 2k Left, and the action going to 2k + 1 Right. Can you\n",
    "find an algorithm that outputs the solution to this problem without any search at all?chapter3.15"
   ]
  },
  {
   "cell_type": "markdown",
   "metadata": {},
   "source": []
  },
  {
   "cell_type": "markdown",
   "metadata": {},
   "source": [
    "6\\.Please look at the network.then answer next question.\n"
   ]
  },
  {
   "cell_type": "markdown",
   "metadata": {},
   "source": [
    "<img src=\"img/p1.png\" width=\"180\" height=\"180\" >"
   ]
  },
  {
   "cell_type": "markdown",
   "metadata": {},
   "source": [
    "1. Simulate (on pencil-and-paper) breadth-first search starting from node A when the goal node is K.\n",
    "2. Simulate (on pencil-and-paper) depth first search starting from node A when the goal node is I."
   ]
  },
  {
   "cell_type": "markdown",
   "metadata": {},
   "source": []
  },
  {
   "cell_type": "markdown",
   "metadata": {},
   "source": [
    "7\\.Please look at the network,use a dictionary to store the shortest path from the starting point to each point;"
   ]
  },
  {
   "cell_type": "markdown",
   "metadata": {},
   "source": [
    "<img src=\"img/p2.png\" width=\"200\" height=\"200\" >"
   ]
  },
  {
   "cell_type": "markdown",
   "metadata": {},
   "source": []
  },
  {
   "cell_type": "markdown",
   "metadata": {},
   "source": [
    "#### Program"
   ]
  },
  {
   "cell_type": "markdown",
   "metadata": {},
   "source": [
    "8\\.DFS:we should  achieve question 7 that  the  enter of a map, starting point, end point, the shortest path between the start and end of the output."
   ]
  },
  {
   "cell_type": "code",
   "execution_count": null,
   "metadata": {},
   "outputs": [],
   "source": [
    "## write your answer here!"
   ]
  },
  {
   "cell_type": "markdown",
   "metadata": {},
   "source": [
    "9\\.Please look at the network.Suppose you have a farm, you need to find a mango seller and sell him the mango. To this end, our principle is to find first-class friends, and then second-class friends (friends of friends), third-class friends (friends of friends of friends) in the search. Using this algorithm will search your network until you find a mango seller.we judge this way, if the person's name ends with m, then it is the mango seller."
   ]
  },
  {
   "cell_type": "markdown",
   "metadata": {},
   "source": [
    "<img src=\"img/p3.png\" width=\"500\" height=\"400\" >"
   ]
  },
  {
   "cell_type": "code",
   "execution_count": null,
   "metadata": {},
   "outputs": [],
   "source": [
    "## write your answer here!"
   ]
  },
  {
   "cell_type": "markdown",
   "metadata": {},
   "source": [
    "10\\.Depth First traverse：Use depth first traversal to traverse all the DLL files on the C disk and record the name of the file(D:\\\\a.txt)."
   ]
  },
  {
   "cell_type": "code",
   "execution_count": null,
   "metadata": {},
   "outputs": [],
   "source": [
    "## write your answer here!"
   ]
  },
  {
   "cell_type": "markdown",
   "metadata": {},
   "source": [
    "11\\.\n",
    "breadth First traverse：Use breadth traversal to traverse all the DLL files on the C disk and record the name of the file(D:\\\\b.txt)."
   ]
  },
  {
   "cell_type": "code",
   "execution_count": null,
   "metadata": {},
   "outputs": [],
   "source": [
    "## write your answer here!"
   ]
  },
  {
   "cell_type": "markdown",
   "metadata": {},
   "source": [
    "12\\.Let the equation y = x1+x2-x3, where x1 is an integer in the interval [-2, 5], x2 is an integer in the interval [2, 6], and x3 is an integer in the interval [-5, 2]. Use hill climbing to find the solution that minimizes y."
   ]
  },
  {
   "cell_type": "code",
   "execution_count": null,
   "metadata": {},
   "outputs": [],
   "source": [
    "## write your answer here!"
   ]
  },
  {
   "cell_type": "markdown",
   "metadata": {},
   "source": [
    "13\\.A pair of baby rabbits will have a pair of baby rabbits every month after three months by birth. After the baby rabbit grew to three months and begin have their baby rabbits, another pair of old rabbits have baby rabbits each month. If the rabbits were not dead, the number of rabbits in M months was asked, and M was a positive  integer write by the keyboard."
   ]
  },
  {
   "cell_type": "code",
   "execution_count": null,
   "metadata": {},
   "outputs": [],
   "source": [
    "## write your answer here!"
   ]
  }
 ],
 "metadata": {
  "kernelspec": {
   "display_name": "Python 3",
   "language": "python",
   "name": "python3"
  },
  "language_info": {
   "codemirror_mode": {
    "name": "ipython",
    "version": 3
   },
   "file_extension": ".py",
   "mimetype": "text/x-python",
   "name": "python",
   "nbconvert_exporter": "python",
   "pygments_lexer": "ipython3",
   "version": "3.6.5"
  }
 },
 "nbformat": 4,
 "nbformat_minor": 2
}
